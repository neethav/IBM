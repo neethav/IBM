{
 "cells": [
  {
   "cell_type": "markdown",
   "id": "9923b127-6b8e-4e1c-8363-bfb4263b5d2b",
   "metadata": {},
   "source": [
    "# Data Science Tools and Ecosystem\n"
   ]
  },
  {
   "cell_type": "markdown",
   "id": "dcb7d1dd-6446-4a32-be51-abbc08301699",
   "metadata": {},
   "source": [
    "In this notebook, Data Science Tools and Ecosystem are summarized."
   ]
  },
  {
   "cell_type": "markdown",
   "id": "257fcd5f-5668-4cc4-8968-af520164b805",
   "metadata": {},
   "source": [
    "Some of the popular languages that Data Scientists use are:\n",
    "1) Java\n",
    "2) Python\n",
    "3) R"
   ]
  },
  {
   "cell_type": "markdown",
   "id": "60b66c8c-0c20-4fb3-a77b-06e2e5b15e7a",
   "metadata": {},
   "source": [
    "|Data Science Tools|\n",
    "|--------------------|\n",
    "|R Studio|\n",
    "|VS code|\n",
    "|JupyterLab|"
   ]
  },
  {
   "cell_type": "markdown",
   "id": "1f8282d3-1e3f-4efd-9c6d-771d5e79ac2b",
   "metadata": {},
   "source": [
    "### Below are a few examples of evaluating arithmetic expressions in Python"
   ]
  },
  {
   "cell_type": "code",
   "execution_count": 14,
   "id": "f905be03-113d-462f-b3c2-97bbbf3c6b07",
   "metadata": {},
   "outputs": [
    {
     "data": {
      "text/plain": [
       "17"
      ]
     },
     "execution_count": 14,
     "metadata": {},
     "output_type": "execute_result"
    }
   ],
   "source": [
    "#This a simple arithmetic expression to mutiply then add integers\n",
    "(3*4)+5"
   ]
  },
  {
   "cell_type": "code",
   "execution_count": 30,
   "id": "e2ba4a36-b2c1-42e9-9e92-50107990a2de",
   "metadata": {},
   "outputs": [
    {
     "data": {
      "text/plain": [
       "3.3333333333333335"
      ]
     },
     "execution_count": 30,
     "metadata": {},
     "output_type": "execute_result"
    }
   ],
   "source": [
    "#This will convert 200 minutes to hours by diving by 60\n",
    "Minutes = 200\n",
    "Hours = 200/60\n",
    "Hours"
   ]
  },
  {
   "cell_type": "markdown",
   "id": "424113ac-25f7-44b9-aed2-cbae421833f5",
   "metadata": {},
   "source": [
    "**Objectives:**"
   ]
  },
  {
   "cell_type": "markdown",
   "id": "6291c869-bf30-4f84-b4d9-402b0fd9259f",
   "metadata": {},
   "source": [
    "* Data Science Tools and Ecosystem\n",
    "* List popular tools and ecosystem\n",
    "* Arithmatic Expressions"
   ]
  },
  {
   "cell_type": "markdown",
   "id": "7b6a541d-39e6-4959-bb2b-09b4069057bc",
   "metadata": {},
   "source": [
    "## Author\n",
    "Neetha Nanoth V"
   ]
  },
  {
   "cell_type": "code",
   "execution_count": null,
   "id": "11e4cfc0-b047-40b2-ab0d-245411aa688b",
   "metadata": {},
   "outputs": [],
   "source": []
  }
 ],
 "metadata": {
  "kernelspec": {
   "display_name": "Python 3 (ipykernel)",
   "language": "python",
   "name": "python3"
  },
  "language_info": {
   "codemirror_mode": {
    "name": "ipython",
    "version": 3
   },
   "file_extension": ".py",
   "mimetype": "text/x-python",
   "name": "python",
   "nbconvert_exporter": "python",
   "pygments_lexer": "ipython3",
   "version": "3.12.7"
  }
 },
 "nbformat": 4,
 "nbformat_minor": 5
}
